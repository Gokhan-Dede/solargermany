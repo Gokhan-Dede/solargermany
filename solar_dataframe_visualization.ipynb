{
 "cells": [
  {
   "cell_type": "code",
   "execution_count": 1,
   "id": "8e04730a",
   "metadata": {},
   "outputs": [],
   "source": [
    "import pandas as pd\n",
    "import numpy as np\n",
    "import datetime as dt"
   ]
  },
  {
   "cell_type": "code",
   "execution_count": 2,
   "id": "031122d3",
   "metadata": {},
   "outputs": [
    {
     "data": {
      "text/html": [
       "<div>\n",
       "<style scoped>\n",
       "    .dataframe tbody tr th:only-of-type {\n",
       "        vertical-align: middle;\n",
       "    }\n",
       "\n",
       "    .dataframe tbody tr th {\n",
       "        vertical-align: top;\n",
       "    }\n",
       "\n",
       "    .dataframe thead th {\n",
       "        text-align: right;\n",
       "    }\n",
       "</style>\n",
       "<table border=\"1\" class=\"dataframe\">\n",
       "  <thead>\n",
       "    <tr style=\"text-align: right;\">\n",
       "      <th></th>\n",
       "      <th>Country</th>\n",
       "      <th>State</th>\n",
       "      <th>City</th>\n",
       "      <th>District</th>\n",
       "      <th>GrossPower</th>\n",
       "      <th>MainOrientation</th>\n",
       "      <th>MainOrientationTiltAngle</th>\n",
       "      <th>NetRatedPower</th>\n",
       "      <th>FeedInType</th>\n",
       "      <th>AssignedActivePowerInverter</th>\n",
       "      <th>NumberOfModules</th>\n",
       "      <th>Location</th>\n",
       "      <th>RegistrationDate</th>\n",
       "      <th>CommissioningDate</th>\n",
       "      <th>UnitOperationalStatus</th>\n",
       "      <th>UniformOrientationAndTiltAngle</th>\n",
       "    </tr>\n",
       "  </thead>\n",
       "  <tbody>\n",
       "    <tr>\n",
       "      <th>0</th>\n",
       "      <td>Germany</td>\n",
       "      <td>Nordrhein-Westfalen</td>\n",
       "      <td>Münster</td>\n",
       "      <td>Münster</td>\n",
       "      <td>3.96</td>\n",
       "      <td>South</td>\n",
       "      <td>20 - 40 Grad</td>\n",
       "      <td>3.96</td>\n",
       "      <td>Full Feed-in</td>\n",
       "      <td>4.0</td>\n",
       "      <td>22.0</td>\n",
       "      <td>Structural installations (house roof, building...</td>\n",
       "      <td>2019-02-01</td>\n",
       "      <td>2007-07-20</td>\n",
       "      <td>In operation</td>\n",
       "      <td>1.0</td>\n",
       "    </tr>\n",
       "    <tr>\n",
       "      <th>1</th>\n",
       "      <td>Germany</td>\n",
       "      <td>Baden-Württemberg</td>\n",
       "      <td>Ostalbkreis</td>\n",
       "      <td>Schwäbisch Gmünd</td>\n",
       "      <td>7.41</td>\n",
       "      <td>South</td>\n",
       "      <td>20 - 40 Grad</td>\n",
       "      <td>7.41</td>\n",
       "      <td>Partial Feed-in</td>\n",
       "      <td>8.3</td>\n",
       "      <td>38.0</td>\n",
       "      <td>Structural installations (house roof, building...</td>\n",
       "      <td>2019-01-31</td>\n",
       "      <td>2013-01-31</td>\n",
       "      <td>In operation</td>\n",
       "      <td>1.0</td>\n",
       "    </tr>\n",
       "    <tr>\n",
       "      <th>2</th>\n",
       "      <td>Germany</td>\n",
       "      <td>Brandenburg</td>\n",
       "      <td>Havelland</td>\n",
       "      <td>Nauen</td>\n",
       "      <td>5.04</td>\n",
       "      <td>South</td>\n",
       "      <td>20 - 40 Grad</td>\n",
       "      <td>5.00</td>\n",
       "      <td>Partial Feed-in</td>\n",
       "      <td>5.0</td>\n",
       "      <td>16.0</td>\n",
       "      <td>Structural installations (house roof, building...</td>\n",
       "      <td>2019-01-31</td>\n",
       "      <td>2016-02-19</td>\n",
       "      <td>In operation</td>\n",
       "      <td>1.0</td>\n",
       "    </tr>\n",
       "    <tr>\n",
       "      <th>3</th>\n",
       "      <td>Germany</td>\n",
       "      <td>Bavaria</td>\n",
       "      <td>Regensburg</td>\n",
       "      <td>Pentling</td>\n",
       "      <td>6.36</td>\n",
       "      <td>South-West</td>\n",
       "      <td>20 - 40 Grad</td>\n",
       "      <td>6.00</td>\n",
       "      <td>Partial Feed-in</td>\n",
       "      <td>6.0</td>\n",
       "      <td>24.0</td>\n",
       "      <td>Structural installations (house roof, building...</td>\n",
       "      <td>2019-01-31</td>\n",
       "      <td>2016-12-16</td>\n",
       "      <td>In operation</td>\n",
       "      <td>1.0</td>\n",
       "    </tr>\n",
       "    <tr>\n",
       "      <th>4</th>\n",
       "      <td>Germany</td>\n",
       "      <td>Saarland</td>\n",
       "      <td>Saarlouis</td>\n",
       "      <td>Saarlouis</td>\n",
       "      <td>7.20</td>\n",
       "      <td>West</td>\n",
       "      <td>20 - 40 Grad</td>\n",
       "      <td>7.20</td>\n",
       "      <td>Partial Feed-in</td>\n",
       "      <td>7.6</td>\n",
       "      <td>30.0</td>\n",
       "      <td>Structural installations (house roof, building...</td>\n",
       "      <td>2019-01-31</td>\n",
       "      <td>2011-12-08</td>\n",
       "      <td>In operation</td>\n",
       "      <td>0.0</td>\n",
       "    </tr>\n",
       "  </tbody>\n",
       "</table>\n",
       "</div>"
      ],
      "text/plain": [
       "   Country                State         City          District  GrossPower  \\\n",
       "0  Germany  Nordrhein-Westfalen      Münster           Münster        3.96   \n",
       "1  Germany    Baden-Württemberg  Ostalbkreis  Schwäbisch Gmünd        7.41   \n",
       "2  Germany          Brandenburg    Havelland             Nauen        5.04   \n",
       "3  Germany              Bavaria   Regensburg          Pentling        6.36   \n",
       "4  Germany             Saarland    Saarlouis         Saarlouis        7.20   \n",
       "\n",
       "  MainOrientation MainOrientationTiltAngle  NetRatedPower       FeedInType  \\\n",
       "0           South             20 - 40 Grad           3.96     Full Feed-in   \n",
       "1           South             20 - 40 Grad           7.41  Partial Feed-in   \n",
       "2           South             20 - 40 Grad           5.00  Partial Feed-in   \n",
       "3      South-West             20 - 40 Grad           6.00  Partial Feed-in   \n",
       "4            West             20 - 40 Grad           7.20  Partial Feed-in   \n",
       "\n",
       "   AssignedActivePowerInverter  NumberOfModules  \\\n",
       "0                          4.0             22.0   \n",
       "1                          8.3             38.0   \n",
       "2                          5.0             16.0   \n",
       "3                          6.0             24.0   \n",
       "4                          7.6             30.0   \n",
       "\n",
       "                                            Location RegistrationDate  \\\n",
       "0  Structural installations (house roof, building...       2019-02-01   \n",
       "1  Structural installations (house roof, building...       2019-01-31   \n",
       "2  Structural installations (house roof, building...       2019-01-31   \n",
       "3  Structural installations (house roof, building...       2019-01-31   \n",
       "4  Structural installations (house roof, building...       2019-01-31   \n",
       "\n",
       "  CommissioningDate UnitOperationalStatus  UniformOrientationAndTiltAngle  \n",
       "0        2007-07-20          In operation                             1.0  \n",
       "1        2013-01-31          In operation                             1.0  \n",
       "2        2016-02-19          In operation                             1.0  \n",
       "3        2016-12-16          In operation                             1.0  \n",
       "4        2011-12-08          In operation                             0.0  "
      ]
     },
     "execution_count": 2,
     "metadata": {},
     "output_type": "execute_result"
    }
   ],
   "source": [
    "data=pd.read_csv('solar_dataframe.csv')\n",
    "data.head()"
   ]
  },
  {
   "cell_type": "code",
   "execution_count": 3,
   "id": "84449d9f",
   "metadata": {},
   "outputs": [
    {
     "data": {
      "text/plain": [
       "Index(['Country', 'State', 'City', 'District', 'GrossPower', 'MainOrientation',\n",
       "       'MainOrientationTiltAngle', 'NetRatedPower', 'FeedInType',\n",
       "       'AssignedActivePowerInverter', 'NumberOfModules', 'Location',\n",
       "       'RegistrationDate', 'CommissioningDate', 'UnitOperationalStatus',\n",
       "       'UniformOrientationAndTiltAngle'],\n",
       "      dtype='object')"
      ]
     },
     "execution_count": 3,
     "metadata": {},
     "output_type": "execute_result"
    }
   ],
   "source": [
    "data.columns"
   ]
  },
  {
   "cell_type": "code",
   "execution_count": 4,
   "id": "3f3f627c",
   "metadata": {},
   "outputs": [
    {
     "data": {
      "text/plain": [
       "(4642261, 16)"
      ]
     },
     "execution_count": 4,
     "metadata": {},
     "output_type": "execute_result"
    }
   ],
   "source": [
    "data.shape"
   ]
  },
  {
   "cell_type": "code",
   "execution_count": 5,
   "id": "fd786d9b",
   "metadata": {
    "scrolled": false
   },
   "outputs": [
    {
     "data": {
      "text/plain": [
       "Country                           0.000000\n",
       "State                             0.000006\n",
       "City                              0.000013\n",
       "District                          0.000013\n",
       "GrossPower                        0.000000\n",
       "MainOrientation                   0.093385\n",
       "MainOrientationTiltAngle          0.099824\n",
       "NetRatedPower                     0.000000\n",
       "FeedInType                        0.005320\n",
       "AssignedActivePowerInverter       0.000614\n",
       "NumberOfModules                   0.019877\n",
       "Location                          0.000011\n",
       "RegistrationDate                  0.000000\n",
       "CommissioningDate                 0.012750\n",
       "UnitOperationalStatus             0.000000\n",
       "UniformOrientationAndTiltAngle    0.098482\n",
       "dtype: float64"
      ]
     },
     "execution_count": 5,
     "metadata": {},
     "output_type": "execute_result"
    }
   ],
   "source": [
    "data.isnull().sum()/len(data)"
   ]
  },
  {
   "cell_type": "code",
   "execution_count": 6,
   "id": "bafc5ee7",
   "metadata": {},
   "outputs": [],
   "source": [
    "data.dropna(axis=0, inplace=True)"
   ]
  },
  {
   "cell_type": "code",
   "execution_count": 7,
   "id": "b5b6dd3b",
   "metadata": {},
   "outputs": [
    {
     "data": {
      "text/plain": [
       "Country                           0.0\n",
       "State                             0.0\n",
       "City                              0.0\n",
       "District                          0.0\n",
       "GrossPower                        0.0\n",
       "MainOrientation                   0.0\n",
       "MainOrientationTiltAngle          0.0\n",
       "NetRatedPower                     0.0\n",
       "FeedInType                        0.0\n",
       "AssignedActivePowerInverter       0.0\n",
       "NumberOfModules                   0.0\n",
       "Location                          0.0\n",
       "RegistrationDate                  0.0\n",
       "CommissioningDate                 0.0\n",
       "UnitOperationalStatus             0.0\n",
       "UniformOrientationAndTiltAngle    0.0\n",
       "dtype: float64"
      ]
     },
     "execution_count": 7,
     "metadata": {},
     "output_type": "execute_result"
    }
   ],
   "source": [
    "data.isnull().sum()/len(data)"
   ]
  },
  {
   "cell_type": "code",
   "execution_count": 8,
   "id": "639dc322",
   "metadata": {},
   "outputs": [],
   "source": [
    "date_columns=[\"RegistrationDate\", \"CommissioningDate\"]\n",
    "data[date_columns]=data[date_columns].apply(pd.to_datetime)"
   ]
  },
  {
   "cell_type": "code",
   "execution_count": 9,
   "id": "4bdc4fc8",
   "metadata": {},
   "outputs": [],
   "source": [
    "data['CommissioningYear']=data['CommissioningDate'].dt.year\n",
    "data['CommissioningMonth']=data['CommissioningDate'].dt.month\n",
    "data['CommissioningDay']=data['CommissioningDate'].dt.day"
   ]
  },
  {
   "cell_type": "code",
   "execution_count": 10,
   "id": "ed0e499b",
   "metadata": {},
   "outputs": [],
   "source": [
    "data['RegistrationYear']=data['RegistrationDate'].dt.year\n",
    "data['RegistrationMonth']=data['RegistrationDate'].dt.month\n",
    "data['RegistrationDay']=data['RegistrationDate'].dt.day"
   ]
  },
  {
   "cell_type": "code",
   "execution_count": 11,
   "id": "3ea1c65a",
   "metadata": {},
   "outputs": [
    {
     "data": {
      "text/plain": [
       "20 - 40 Grad         2317616\n",
       "40 - 60 Grad          894298\n",
       "< 20 Grad             691665\n",
       "Facade-integrated      38206\n",
       "> 60 Grad              35043\n",
       "Adjusted               10103\n",
       "Name: MainOrientationTiltAngle, dtype: int64"
      ]
     },
     "execution_count": 11,
     "metadata": {},
     "output_type": "execute_result"
    }
   ],
   "source": [
    "data[\"MainOrientationTiltAngle\"].value_counts()"
   ]
  },
  {
   "cell_type": "code",
   "execution_count": 12,
   "id": "7489b36f",
   "metadata": {},
   "outputs": [],
   "source": [
    "# Mapping tilt categories to degree ranges\n",
    "angle_ranges={\n",
    "    \"< 20 Grad\": (0, 18),              # 0-20 degrees\n",
    "    \"20 - 40 Grad\": (18, 36),          # 20-40 degrees\n",
    "    \"40 - 60 Grad\": (36, 54),          # 40-60 degrees\n",
    "    \"> 60 Grad\": (54, 90),             # 60-90 degrees\n",
    "    \"Facade-integrated\": (9, 18),      # Near vertical\n",
    "    \"Adjusted\": (27, 45)               # Custom category\n",
    "}"
   ]
  },
  {
   "cell_type": "code",
   "execution_count": 13,
   "id": "4167e180",
   "metadata": {},
   "outputs": [],
   "source": [
    "def compute_trig_ranges(range_tuple):\n",
    "    min_deg, max_deg = range_tuple\n",
    "    min_rad, max_rad = np.radians(min_deg), np.radians(max_deg)\n",
    "    sin_range = (np.sin(min_rad), np.sin(max_rad))\n",
    "    cos_range = (np.cos(min_rad), np.cos(max_rad))\n",
    "    return sin_range, cos_range"
   ]
  },
  {
   "cell_type": "code",
   "execution_count": 14,
   "id": "da9af187",
   "metadata": {},
   "outputs": [],
   "source": [
    "# Map categories to degree ranges and compute trig ranges\n",
    "data[\"TiltDegreeRange\"] = data[\"MainOrientationTiltAngle\"].map(angle_ranges)\n",
    "data[\"TiltSinRange\"], data[\"TiltCosRange\"] = zip(*data[\"TiltDegreeRange\"].map(compute_trig_ranges))"
   ]
  },
  {
   "cell_type": "code",
   "execution_count": 15,
   "id": "d130e35f",
   "metadata": {},
   "outputs": [],
   "source": [
    "data.drop([\"MainOrientationTiltAngle\"], axis=1, inplace=True)"
   ]
  },
  {
   "cell_type": "code",
   "execution_count": 18,
   "id": "5e04210a",
   "metadata": {},
   "outputs": [],
   "source": [
    "data['TimeSinceCommissioning'] = (dt.datetime.now() - data['CommissioningDate']).dt.days"
   ]
  },
  {
   "cell_type": "code",
   "execution_count": 19,
   "id": "a585100a",
   "metadata": {},
   "outputs": [],
   "source": [
    "data.drop([\"RegistrationDate\", \"CommissioningDate\"], axis=1, inplace=True)"
   ]
  },
  {
   "cell_type": "code",
   "execution_count": 20,
   "id": "841f40fd",
   "metadata": {},
   "outputs": [],
   "source": [
    "data['Efficiency'] = data['NetRatedPower'] / data['GrossPower']"
   ]
  },
  {
   "cell_type": "code",
   "execution_count": 21,
   "id": "b182a6bb",
   "metadata": {},
   "outputs": [],
   "source": [
    "data['PowerPerModule'] = data['GrossPower'] / data['NumberOfModules']"
   ]
  },
  {
   "cell_type": "code",
   "execution_count": 22,
   "id": "2e5df099",
   "metadata": {},
   "outputs": [],
   "source": [
    "data.drop([\"TiltDegreeRange\"], axis=1, inplace=True)"
   ]
  },
  {
   "cell_type": "code",
   "execution_count": 23,
   "id": "e6eed13d",
   "metadata": {},
   "outputs": [
    {
     "data": {
      "text/html": [
       "<div>\n",
       "<style scoped>\n",
       "    .dataframe tbody tr th:only-of-type {\n",
       "        vertical-align: middle;\n",
       "    }\n",
       "\n",
       "    .dataframe tbody tr th {\n",
       "        vertical-align: top;\n",
       "    }\n",
       "\n",
       "    .dataframe thead th {\n",
       "        text-align: right;\n",
       "    }\n",
       "</style>\n",
       "<table border=\"1\" class=\"dataframe\">\n",
       "  <thead>\n",
       "    <tr style=\"text-align: right;\">\n",
       "      <th></th>\n",
       "      <th>Country</th>\n",
       "      <th>State</th>\n",
       "      <th>City</th>\n",
       "      <th>District</th>\n",
       "      <th>GrossPower</th>\n",
       "      <th>MainOrientation</th>\n",
       "      <th>NetRatedPower</th>\n",
       "      <th>FeedInType</th>\n",
       "      <th>AssignedActivePowerInverter</th>\n",
       "      <th>NumberOfModules</th>\n",
       "      <th>...</th>\n",
       "      <th>CommissioningMonth</th>\n",
       "      <th>CommissioningDay</th>\n",
       "      <th>RegistrationYear</th>\n",
       "      <th>RegistrationMonth</th>\n",
       "      <th>RegistrationDay</th>\n",
       "      <th>TiltSinRange</th>\n",
       "      <th>TiltCosRange</th>\n",
       "      <th>TimeSinceCommissioning</th>\n",
       "      <th>Efficiency</th>\n",
       "      <th>PowerPerModule</th>\n",
       "    </tr>\n",
       "  </thead>\n",
       "  <tbody>\n",
       "    <tr>\n",
       "      <th>0</th>\n",
       "      <td>Germany</td>\n",
       "      <td>Nordrhein-Westfalen</td>\n",
       "      <td>Münster</td>\n",
       "      <td>Münster</td>\n",
       "      <td>3.96</td>\n",
       "      <td>South</td>\n",
       "      <td>3.96</td>\n",
       "      <td>Full Feed-in</td>\n",
       "      <td>4.0</td>\n",
       "      <td>22.0</td>\n",
       "      <td>...</td>\n",
       "      <td>7</td>\n",
       "      <td>20</td>\n",
       "      <td>2019</td>\n",
       "      <td>2</td>\n",
       "      <td>1</td>\n",
       "      <td>(0.3090169943749474, 0.5877852522924731)</td>\n",
       "      <td>(0.9510565162951535, 0.8090169943749475)</td>\n",
       "      <td>6369</td>\n",
       "      <td>1.000000</td>\n",
       "      <td>0.180</td>\n",
       "    </tr>\n",
       "    <tr>\n",
       "      <th>1</th>\n",
       "      <td>Germany</td>\n",
       "      <td>Baden-Württemberg</td>\n",
       "      <td>Ostalbkreis</td>\n",
       "      <td>Schwäbisch Gmünd</td>\n",
       "      <td>7.41</td>\n",
       "      <td>South</td>\n",
       "      <td>7.41</td>\n",
       "      <td>Partial Feed-in</td>\n",
       "      <td>8.3</td>\n",
       "      <td>38.0</td>\n",
       "      <td>...</td>\n",
       "      <td>1</td>\n",
       "      <td>31</td>\n",
       "      <td>2019</td>\n",
       "      <td>1</td>\n",
       "      <td>31</td>\n",
       "      <td>(0.3090169943749474, 0.5877852522924731)</td>\n",
       "      <td>(0.9510565162951535, 0.8090169943749475)</td>\n",
       "      <td>4347</td>\n",
       "      <td>1.000000</td>\n",
       "      <td>0.195</td>\n",
       "    </tr>\n",
       "    <tr>\n",
       "      <th>2</th>\n",
       "      <td>Germany</td>\n",
       "      <td>Brandenburg</td>\n",
       "      <td>Havelland</td>\n",
       "      <td>Nauen</td>\n",
       "      <td>5.04</td>\n",
       "      <td>South</td>\n",
       "      <td>5.00</td>\n",
       "      <td>Partial Feed-in</td>\n",
       "      <td>5.0</td>\n",
       "      <td>16.0</td>\n",
       "      <td>...</td>\n",
       "      <td>2</td>\n",
       "      <td>19</td>\n",
       "      <td>2019</td>\n",
       "      <td>1</td>\n",
       "      <td>31</td>\n",
       "      <td>(0.3090169943749474, 0.5877852522924731)</td>\n",
       "      <td>(0.9510565162951535, 0.8090169943749475)</td>\n",
       "      <td>3233</td>\n",
       "      <td>0.992063</td>\n",
       "      <td>0.315</td>\n",
       "    </tr>\n",
       "    <tr>\n",
       "      <th>3</th>\n",
       "      <td>Germany</td>\n",
       "      <td>Bavaria</td>\n",
       "      <td>Regensburg</td>\n",
       "      <td>Pentling</td>\n",
       "      <td>6.36</td>\n",
       "      <td>South-West</td>\n",
       "      <td>6.00</td>\n",
       "      <td>Partial Feed-in</td>\n",
       "      <td>6.0</td>\n",
       "      <td>24.0</td>\n",
       "      <td>...</td>\n",
       "      <td>12</td>\n",
       "      <td>16</td>\n",
       "      <td>2019</td>\n",
       "      <td>1</td>\n",
       "      <td>31</td>\n",
       "      <td>(0.3090169943749474, 0.5877852522924731)</td>\n",
       "      <td>(0.9510565162951535, 0.8090169943749475)</td>\n",
       "      <td>2932</td>\n",
       "      <td>0.943396</td>\n",
       "      <td>0.265</td>\n",
       "    </tr>\n",
       "    <tr>\n",
       "      <th>4</th>\n",
       "      <td>Germany</td>\n",
       "      <td>Saarland</td>\n",
       "      <td>Saarlouis</td>\n",
       "      <td>Saarlouis</td>\n",
       "      <td>7.20</td>\n",
       "      <td>West</td>\n",
       "      <td>7.20</td>\n",
       "      <td>Partial Feed-in</td>\n",
       "      <td>7.6</td>\n",
       "      <td>30.0</td>\n",
       "      <td>...</td>\n",
       "      <td>12</td>\n",
       "      <td>8</td>\n",
       "      <td>2019</td>\n",
       "      <td>1</td>\n",
       "      <td>31</td>\n",
       "      <td>(0.3090169943749474, 0.5877852522924731)</td>\n",
       "      <td>(0.9510565162951535, 0.8090169943749475)</td>\n",
       "      <td>4767</td>\n",
       "      <td>1.000000</td>\n",
       "      <td>0.240</td>\n",
       "    </tr>\n",
       "  </tbody>\n",
       "</table>\n",
       "<p>5 rows × 24 columns</p>\n",
       "</div>"
      ],
      "text/plain": [
       "   Country                State         City          District  GrossPower  \\\n",
       "0  Germany  Nordrhein-Westfalen      Münster           Münster        3.96   \n",
       "1  Germany    Baden-Württemberg  Ostalbkreis  Schwäbisch Gmünd        7.41   \n",
       "2  Germany          Brandenburg    Havelland             Nauen        5.04   \n",
       "3  Germany              Bavaria   Regensburg          Pentling        6.36   \n",
       "4  Germany             Saarland    Saarlouis         Saarlouis        7.20   \n",
       "\n",
       "  MainOrientation  NetRatedPower       FeedInType  \\\n",
       "0           South           3.96     Full Feed-in   \n",
       "1           South           7.41  Partial Feed-in   \n",
       "2           South           5.00  Partial Feed-in   \n",
       "3      South-West           6.00  Partial Feed-in   \n",
       "4            West           7.20  Partial Feed-in   \n",
       "\n",
       "   AssignedActivePowerInverter  NumberOfModules  ... CommissioningMonth  \\\n",
       "0                          4.0             22.0  ...                  7   \n",
       "1                          8.3             38.0  ...                  1   \n",
       "2                          5.0             16.0  ...                  2   \n",
       "3                          6.0             24.0  ...                 12   \n",
       "4                          7.6             30.0  ...                 12   \n",
       "\n",
       "  CommissioningDay  RegistrationYear  RegistrationMonth  RegistrationDay  \\\n",
       "0               20              2019                  2                1   \n",
       "1               31              2019                  1               31   \n",
       "2               19              2019                  1               31   \n",
       "3               16              2019                  1               31   \n",
       "4                8              2019                  1               31   \n",
       "\n",
       "                               TiltSinRange  \\\n",
       "0  (0.3090169943749474, 0.5877852522924731)   \n",
       "1  (0.3090169943749474, 0.5877852522924731)   \n",
       "2  (0.3090169943749474, 0.5877852522924731)   \n",
       "3  (0.3090169943749474, 0.5877852522924731)   \n",
       "4  (0.3090169943749474, 0.5877852522924731)   \n",
       "\n",
       "                               TiltCosRange  TimeSinceCommissioning  \\\n",
       "0  (0.9510565162951535, 0.8090169943749475)                    6369   \n",
       "1  (0.9510565162951535, 0.8090169943749475)                    4347   \n",
       "2  (0.9510565162951535, 0.8090169943749475)                    3233   \n",
       "3  (0.9510565162951535, 0.8090169943749475)                    2932   \n",
       "4  (0.9510565162951535, 0.8090169943749475)                    4767   \n",
       "\n",
       "   Efficiency PowerPerModule  \n",
       "0    1.000000          0.180  \n",
       "1    1.000000          0.195  \n",
       "2    0.992063          0.315  \n",
       "3    0.943396          0.265  \n",
       "4    1.000000          0.240  \n",
       "\n",
       "[5 rows x 24 columns]"
      ]
     },
     "execution_count": 23,
     "metadata": {},
     "output_type": "execute_result"
    }
   ],
   "source": [
    "data.head()"
   ]
  },
  {
   "cell_type": "code",
   "execution_count": 24,
   "id": "40b10c3f",
   "metadata": {},
   "outputs": [
    {
     "data": {
      "text/plain": [
       "Index(['Country', 'State', 'City', 'District', 'GrossPower', 'MainOrientation',\n",
       "       'NetRatedPower', 'FeedInType', 'AssignedActivePowerInverter',\n",
       "       'NumberOfModules', 'Location', 'UnitOperationalStatus',\n",
       "       'UniformOrientationAndTiltAngle', 'CommissioningYear',\n",
       "       'CommissioningMonth', 'CommissioningDay', 'RegistrationYear',\n",
       "       'RegistrationMonth', 'RegistrationDay', 'TiltSinRange', 'TiltCosRange',\n",
       "       'TimeSinceCommissioning', 'Efficiency', 'PowerPerModule'],\n",
       "      dtype='object')"
      ]
     },
     "execution_count": 24,
     "metadata": {},
     "output_type": "execute_result"
    }
   ],
   "source": [
    "data.columns"
   ]
  },
  {
   "cell_type": "code",
   "execution_count": 25,
   "id": "a176ec02",
   "metadata": {},
   "outputs": [
    {
     "name": "stdout",
     "output_type": "stream",
     "text": [
      "<class 'pandas.core.frame.DataFrame'>\n",
      "Int64Index: 3986931 entries, 0 to 4642260\n",
      "Data columns (total 24 columns):\n",
      " #   Column                          Dtype  \n",
      "---  ------                          -----  \n",
      " 0   Country                         object \n",
      " 1   State                           object \n",
      " 2   City                            object \n",
      " 3   District                        object \n",
      " 4   GrossPower                      float64\n",
      " 5   MainOrientation                 object \n",
      " 6   NetRatedPower                   float64\n",
      " 7   FeedInType                      object \n",
      " 8   AssignedActivePowerInverter     float64\n",
      " 9   NumberOfModules                 float64\n",
      " 10  Location                        object \n",
      " 11  UnitOperationalStatus           object \n",
      " 12  UniformOrientationAndTiltAngle  float64\n",
      " 13  CommissioningYear               int64  \n",
      " 14  CommissioningMonth              int64  \n",
      " 15  CommissioningDay                int64  \n",
      " 16  RegistrationYear                int64  \n",
      " 17  RegistrationMonth               int64  \n",
      " 18  RegistrationDay                 int64  \n",
      " 19  TiltSinRange                    object \n",
      " 20  TiltCosRange                    object \n",
      " 21  TimeSinceCommissioning          int64  \n",
      " 22  Efficiency                      float64\n",
      " 23  PowerPerModule                  float64\n",
      "dtypes: float64(7), int64(7), object(10)\n",
      "memory usage: 760.4+ MB\n"
     ]
    }
   ],
   "source": [
    "data.info()"
   ]
  },
  {
   "cell_type": "code",
   "execution_count": null,
   "id": "0c93a4dc",
   "metadata": {},
   "outputs": [],
   "source": [
    "data.to_csv('solar_visualization.csv', index=False)"
   ]
  },
  {
   "cell_type": "code",
   "execution_count": 27,
   "id": "4179f1e5",
   "metadata": {},
   "outputs": [],
   "source": [
    "!git add solar_dataframe_visualization.ipynb"
   ]
  },
  {
   "cell_type": "code",
   "execution_count": 28,
   "id": "6b59913d",
   "metadata": {},
   "outputs": [
    {
     "name": "stdout",
     "output_type": "stream",
     "text": [
      "[master 8ba2877] Formatting Dataframe for Visualization\r\n",
      " 1 file changed, 877 insertions(+)\r\n",
      " create mode 100644 solar_dataframe_visualization.ipynb\r\n"
     ]
    }
   ],
   "source": [
    "!git commit -m \"Formatting Dataframe for Visualization\""
   ]
  },
  {
   "cell_type": "code",
   "execution_count": 29,
   "id": "c8a0782e",
   "metadata": {},
   "outputs": [
    {
     "name": "stdout",
     "output_type": "stream",
     "text": [
      "Enumerating objects: 4, done.\n",
      "Counting objects: 100% (4/4), done.\n",
      "Delta compression using up to 8 threads\n",
      "Compressing objects: 100% (3/3), done.\n",
      "Writing objects: 100% (3/3), 4.46 KiB | 1.11 MiB/s, done.\n",
      "Total 3 (delta 1), reused 0 (delta 0), pack-reused 0\n",
      "remote: Resolving deltas: 100% (1/1), completed with 1 local object.\u001b[K\n",
      "To github.com:Gokhan-Dede/data-optional-experimenting.git\n",
      "   3bf6da9..8ba2877  master -> master\n"
     ]
    }
   ],
   "source": [
    "!git push origin master"
   ]
  },
  {
   "cell_type": "code",
   "execution_count": null,
   "id": "15f83552",
   "metadata": {},
   "outputs": [],
   "source": []
  }
 ],
 "metadata": {
  "kernelspec": {
   "display_name": "Python 3 (ipykernel)",
   "language": "python",
   "name": "python3"
  },
  "language_info": {
   "codemirror_mode": {
    "name": "ipython",
    "version": 3
   },
   "file_extension": ".py",
   "mimetype": "text/x-python",
   "name": "python",
   "nbconvert_exporter": "python",
   "pygments_lexer": "ipython3",
   "version": "3.10.6"
  },
  "toc": {
   "base_numbering": 1,
   "nav_menu": {},
   "number_sections": true,
   "sideBar": true,
   "skip_h1_title": false,
   "title_cell": "Table of Contents",
   "title_sidebar": "Contents",
   "toc_cell": false,
   "toc_position": {},
   "toc_section_display": true,
   "toc_window_display": false
  }
 },
 "nbformat": 4,
 "nbformat_minor": 5
}
