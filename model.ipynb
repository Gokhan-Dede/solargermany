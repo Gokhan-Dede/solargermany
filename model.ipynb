{
 "cells": [
  {
   "cell_type": "code",
   "execution_count": 1,
   "id": "18d9ecfb",
   "metadata": {},
   "outputs": [],
   "source": [
    "import pandas as pd\n",
    "import numpy as np\n",
    "import matplotlib.pyplot as plt\n",
    "import seaborn as sns"
   ]
  },
  {
   "cell_type": "code",
   "execution_count": 2,
   "id": "7646dcad",
   "metadata": {},
   "outputs": [
    {
     "data": {
      "text/html": [
       "<div>\n",
       "<style scoped>\n",
       "    .dataframe tbody tr th:only-of-type {\n",
       "        vertical-align: middle;\n",
       "    }\n",
       "\n",
       "    .dataframe tbody tr th {\n",
       "        vertical-align: top;\n",
       "    }\n",
       "\n",
       "    .dataframe thead th {\n",
       "        text-align: right;\n",
       "    }\n",
       "</style>\n",
       "<table border=\"1\" class=\"dataframe\">\n",
       "  <thead>\n",
       "    <tr style=\"text-align: right;\">\n",
       "      <th></th>\n",
       "      <th>Country</th>\n",
       "      <th>State</th>\n",
       "      <th>Administrative Region</th>\n",
       "      <th>City</th>\n",
       "      <th>GrossPower</th>\n",
       "      <th>MainOrientation</th>\n",
       "      <th>NetRatedPower</th>\n",
       "      <th>FeedInType</th>\n",
       "      <th>AssignedActivePowerInverter</th>\n",
       "      <th>NumberOfModules</th>\n",
       "      <th>...</th>\n",
       "      <th>CommissioningMonth</th>\n",
       "      <th>CommissioningDay</th>\n",
       "      <th>RegistrationYear</th>\n",
       "      <th>RegistrationMonth</th>\n",
       "      <th>RegistrationDay</th>\n",
       "      <th>TiltSinRange</th>\n",
       "      <th>TiltCosRange</th>\n",
       "      <th>TimeSinceCommissioning</th>\n",
       "      <th>Efficiency</th>\n",
       "      <th>PowerPerModule</th>\n",
       "    </tr>\n",
       "  </thead>\n",
       "  <tbody>\n",
       "    <tr>\n",
       "      <th>0</th>\n",
       "      <td>Germany</td>\n",
       "      <td>Nordrhein-Westfalen</td>\n",
       "      <td>Münster</td>\n",
       "      <td>Münster</td>\n",
       "      <td>3.96</td>\n",
       "      <td>South</td>\n",
       "      <td>3.96</td>\n",
       "      <td>Full Feed-in</td>\n",
       "      <td>4.0</td>\n",
       "      <td>22.0</td>\n",
       "      <td>...</td>\n",
       "      <td>7</td>\n",
       "      <td>20</td>\n",
       "      <td>2019</td>\n",
       "      <td>2</td>\n",
       "      <td>1</td>\n",
       "      <td>(0.3090169943749474, 0.5877852522924731)</td>\n",
       "      <td>(0.9510565162951535, 0.8090169943749475)</td>\n",
       "      <td>6369</td>\n",
       "      <td>1.000000</td>\n",
       "      <td>0.180</td>\n",
       "    </tr>\n",
       "    <tr>\n",
       "      <th>1</th>\n",
       "      <td>Germany</td>\n",
       "      <td>Baden-Württemberg</td>\n",
       "      <td>Ostalbkreis</td>\n",
       "      <td>Schwäbisch Gmünd</td>\n",
       "      <td>7.41</td>\n",
       "      <td>South</td>\n",
       "      <td>7.41</td>\n",
       "      <td>Partial Feed-in</td>\n",
       "      <td>8.3</td>\n",
       "      <td>38.0</td>\n",
       "      <td>...</td>\n",
       "      <td>1</td>\n",
       "      <td>31</td>\n",
       "      <td>2019</td>\n",
       "      <td>1</td>\n",
       "      <td>31</td>\n",
       "      <td>(0.3090169943749474, 0.5877852522924731)</td>\n",
       "      <td>(0.9510565162951535, 0.8090169943749475)</td>\n",
       "      <td>4347</td>\n",
       "      <td>1.000000</td>\n",
       "      <td>0.195</td>\n",
       "    </tr>\n",
       "    <tr>\n",
       "      <th>2</th>\n",
       "      <td>Germany</td>\n",
       "      <td>Brandenburg</td>\n",
       "      <td>Havelland</td>\n",
       "      <td>Nauen</td>\n",
       "      <td>5.04</td>\n",
       "      <td>South</td>\n",
       "      <td>5.00</td>\n",
       "      <td>Partial Feed-in</td>\n",
       "      <td>5.0</td>\n",
       "      <td>16.0</td>\n",
       "      <td>...</td>\n",
       "      <td>2</td>\n",
       "      <td>19</td>\n",
       "      <td>2019</td>\n",
       "      <td>1</td>\n",
       "      <td>31</td>\n",
       "      <td>(0.3090169943749474, 0.5877852522924731)</td>\n",
       "      <td>(0.9510565162951535, 0.8090169943749475)</td>\n",
       "      <td>3233</td>\n",
       "      <td>0.992063</td>\n",
       "      <td>0.315</td>\n",
       "    </tr>\n",
       "    <tr>\n",
       "      <th>3</th>\n",
       "      <td>Germany</td>\n",
       "      <td>Bayern</td>\n",
       "      <td>Regensburg</td>\n",
       "      <td>Pentling</td>\n",
       "      <td>6.36</td>\n",
       "      <td>South-West</td>\n",
       "      <td>6.00</td>\n",
       "      <td>Partial Feed-in</td>\n",
       "      <td>6.0</td>\n",
       "      <td>24.0</td>\n",
       "      <td>...</td>\n",
       "      <td>12</td>\n",
       "      <td>16</td>\n",
       "      <td>2019</td>\n",
       "      <td>1</td>\n",
       "      <td>31</td>\n",
       "      <td>(0.3090169943749474, 0.5877852522924731)</td>\n",
       "      <td>(0.9510565162951535, 0.8090169943749475)</td>\n",
       "      <td>2932</td>\n",
       "      <td>0.943396</td>\n",
       "      <td>0.265</td>\n",
       "    </tr>\n",
       "    <tr>\n",
       "      <th>4</th>\n",
       "      <td>Germany</td>\n",
       "      <td>Saarland</td>\n",
       "      <td>Saarlouis</td>\n",
       "      <td>Saarlouis</td>\n",
       "      <td>7.20</td>\n",
       "      <td>West</td>\n",
       "      <td>7.20</td>\n",
       "      <td>Partial Feed-in</td>\n",
       "      <td>7.6</td>\n",
       "      <td>30.0</td>\n",
       "      <td>...</td>\n",
       "      <td>12</td>\n",
       "      <td>8</td>\n",
       "      <td>2019</td>\n",
       "      <td>1</td>\n",
       "      <td>31</td>\n",
       "      <td>(0.3090169943749474, 0.5877852522924731)</td>\n",
       "      <td>(0.9510565162951535, 0.8090169943749475)</td>\n",
       "      <td>4767</td>\n",
       "      <td>1.000000</td>\n",
       "      <td>0.240</td>\n",
       "    </tr>\n",
       "  </tbody>\n",
       "</table>\n",
       "<p>5 rows × 24 columns</p>\n",
       "</div>"
      ],
      "text/plain": [
       "   Country                State Administrative Region              City  \\\n",
       "0  Germany  Nordrhein-Westfalen               Münster           Münster   \n",
       "1  Germany    Baden-Württemberg           Ostalbkreis  Schwäbisch Gmünd   \n",
       "2  Germany          Brandenburg             Havelland             Nauen   \n",
       "3  Germany               Bayern            Regensburg          Pentling   \n",
       "4  Germany             Saarland             Saarlouis         Saarlouis   \n",
       "\n",
       "   GrossPower MainOrientation  NetRatedPower       FeedInType  \\\n",
       "0        3.96           South           3.96     Full Feed-in   \n",
       "1        7.41           South           7.41  Partial Feed-in   \n",
       "2        5.04           South           5.00  Partial Feed-in   \n",
       "3        6.36      South-West           6.00  Partial Feed-in   \n",
       "4        7.20            West           7.20  Partial Feed-in   \n",
       "\n",
       "   AssignedActivePowerInverter  NumberOfModules  ... CommissioningMonth  \\\n",
       "0                          4.0             22.0  ...                  7   \n",
       "1                          8.3             38.0  ...                  1   \n",
       "2                          5.0             16.0  ...                  2   \n",
       "3                          6.0             24.0  ...                 12   \n",
       "4                          7.6             30.0  ...                 12   \n",
       "\n",
       "  CommissioningDay  RegistrationYear  RegistrationMonth  RegistrationDay  \\\n",
       "0               20              2019                  2                1   \n",
       "1               31              2019                  1               31   \n",
       "2               19              2019                  1               31   \n",
       "3               16              2019                  1               31   \n",
       "4                8              2019                  1               31   \n",
       "\n",
       "                               TiltSinRange  \\\n",
       "0  (0.3090169943749474, 0.5877852522924731)   \n",
       "1  (0.3090169943749474, 0.5877852522924731)   \n",
       "2  (0.3090169943749474, 0.5877852522924731)   \n",
       "3  (0.3090169943749474, 0.5877852522924731)   \n",
       "4  (0.3090169943749474, 0.5877852522924731)   \n",
       "\n",
       "                               TiltCosRange  TimeSinceCommissioning  \\\n",
       "0  (0.9510565162951535, 0.8090169943749475)                    6369   \n",
       "1  (0.9510565162951535, 0.8090169943749475)                    4347   \n",
       "2  (0.9510565162951535, 0.8090169943749475)                    3233   \n",
       "3  (0.9510565162951535, 0.8090169943749475)                    2932   \n",
       "4  (0.9510565162951535, 0.8090169943749475)                    4767   \n",
       "\n",
       "   Efficiency PowerPerModule  \n",
       "0    1.000000          0.180  \n",
       "1    1.000000          0.195  \n",
       "2    0.992063          0.315  \n",
       "3    0.943396          0.265  \n",
       "4    1.000000          0.240  \n",
       "\n",
       "[5 rows x 24 columns]"
      ]
     },
     "execution_count": 2,
     "metadata": {},
     "output_type": "execute_result"
    }
   ],
   "source": [
    "data=pd.read_csv(\"solar_visualization.csv\")\n",
    "data.head()"
   ]
  },
  {
   "cell_type": "code",
   "execution_count": 3,
   "id": "78352904",
   "metadata": {},
   "outputs": [
    {
     "data": {
      "text/plain": [
       "23164"
      ]
     },
     "execution_count": 3,
     "metadata": {},
     "output_type": "execute_result"
    }
   ],
   "source": [
    "data.duplicated().sum()"
   ]
  },
  {
   "cell_type": "code",
   "execution_count": 4,
   "id": "1f852483",
   "metadata": {},
   "outputs": [
    {
     "data": {
      "text/plain": [
       "(3963767, 24)"
      ]
     },
     "execution_count": 4,
     "metadata": {},
     "output_type": "execute_result"
    }
   ],
   "source": [
    "data=data.drop_duplicates()\n",
    "data.shape"
   ]
  },
  {
   "cell_type": "code",
   "execution_count": 5,
   "id": "f799abf5",
   "metadata": {},
   "outputs": [],
   "source": [
    "data_model=data[['State', 'Administrative Region', 'City','MainOrientation',\n",
    "                 'FeedInType', 'AssignedActivePowerInverter','Location',\n",
    "                 'NumberOfModules','GrossPower', 'NetRatedPower',\n",
    "                 ]]"
   ]
  },
  {
   "cell_type": "code",
   "execution_count": 6,
   "id": "ba1f36df",
   "metadata": {},
   "outputs": [],
   "source": [
    "Q1=data_model.quantile(0.25)\n",
    "Q3=data_model.quantile(0.75)\n",
    "IQR=Q3"
   ]
  },
  {
   "cell_type": "code",
   "execution_count": 7,
   "id": "f911c218",
   "metadata": {},
   "outputs": [],
   "source": [
    "lower_bound = Q1 - 1.5 * IQR\n",
    "upper_bound = Q3 + 1.5 * IQR"
   ]
  },
  {
   "cell_type": "code",
   "execution_count": 8,
   "id": "3e495a6b",
   "metadata": {},
   "outputs": [],
   "source": [
    "# Ensure lower_bound and upper_bound are DataFrames aligned to data\n",
    "lower_bound_df = pd.DataFrame([lower_bound] * len(data_model), columns=data_model.columns, index=data_model.index)\n",
    "upper_bound_df = pd.DataFrame([upper_bound] * len(data_model), columns=data_model.columns, index=data_model.index)"
   ]
  },
  {
   "cell_type": "code",
   "execution_count": 9,
   "id": "1c659ae7",
   "metadata": {},
   "outputs": [],
   "source": [
    "# Apply the filtering logic\n",
    "mask = ~((data_model < lower_bound_df) | (data_model > upper_bound_df)).any(axis=1)\n",
    "data_model_no_outliers = data_model[mask]"
   ]
  },
  {
   "cell_type": "code",
   "execution_count": 10,
   "id": "08d36032",
   "metadata": {},
   "outputs": [],
   "source": [
    "X=data_model_no_outliers[['State', 'Administrative Region', 'City','MainOrientation',\n",
    "                          'FeedInType', 'AssignedActivePowerInverter','Location', 'NumberOfModules']]\n",
    "\n",
    "y = data_model_no_outliers[[\"GrossPower\", \"NetRatedPower\"]]"
   ]
  },
  {
   "cell_type": "code",
   "execution_count": 11,
   "id": "496e83f8",
   "metadata": {},
   "outputs": [
    {
     "data": {
      "text/html": [
       "<div>\n",
       "<style scoped>\n",
       "    .dataframe tbody tr th:only-of-type {\n",
       "        vertical-align: middle;\n",
       "    }\n",
       "\n",
       "    .dataframe tbody tr th {\n",
       "        vertical-align: top;\n",
       "    }\n",
       "\n",
       "    .dataframe thead th {\n",
       "        text-align: right;\n",
       "    }\n",
       "</style>\n",
       "<table border=\"1\" class=\"dataframe\">\n",
       "  <thead>\n",
       "    <tr style=\"text-align: right;\">\n",
       "      <th></th>\n",
       "      <th>State</th>\n",
       "      <th>Administrative Region</th>\n",
       "      <th>City</th>\n",
       "      <th>MainOrientation</th>\n",
       "      <th>FeedInType</th>\n",
       "      <th>AssignedActivePowerInverter</th>\n",
       "      <th>Location</th>\n",
       "      <th>NumberOfModules</th>\n",
       "    </tr>\n",
       "  </thead>\n",
       "  <tbody>\n",
       "    <tr>\n",
       "      <th>0</th>\n",
       "      <td>Nordrhein-Westfalen</td>\n",
       "      <td>Münster</td>\n",
       "      <td>Münster</td>\n",
       "      <td>South</td>\n",
       "      <td>Full Feed-in</td>\n",
       "      <td>4.0</td>\n",
       "      <td>Structural installations (house roof, building...</td>\n",
       "      <td>22.0</td>\n",
       "    </tr>\n",
       "    <tr>\n",
       "      <th>1</th>\n",
       "      <td>Baden-Württemberg</td>\n",
       "      <td>Ostalbkreis</td>\n",
       "      <td>Schwäbisch Gmünd</td>\n",
       "      <td>South</td>\n",
       "      <td>Partial Feed-in</td>\n",
       "      <td>8.3</td>\n",
       "      <td>Structural installations (house roof, building...</td>\n",
       "      <td>38.0</td>\n",
       "    </tr>\n",
       "    <tr>\n",
       "      <th>2</th>\n",
       "      <td>Brandenburg</td>\n",
       "      <td>Havelland</td>\n",
       "      <td>Nauen</td>\n",
       "      <td>South</td>\n",
       "      <td>Partial Feed-in</td>\n",
       "      <td>5.0</td>\n",
       "      <td>Structural installations (house roof, building...</td>\n",
       "      <td>16.0</td>\n",
       "    </tr>\n",
       "    <tr>\n",
       "      <th>3</th>\n",
       "      <td>Bayern</td>\n",
       "      <td>Regensburg</td>\n",
       "      <td>Pentling</td>\n",
       "      <td>South-West</td>\n",
       "      <td>Partial Feed-in</td>\n",
       "      <td>6.0</td>\n",
       "      <td>Structural installations (house roof, building...</td>\n",
       "      <td>24.0</td>\n",
       "    </tr>\n",
       "    <tr>\n",
       "      <th>4</th>\n",
       "      <td>Saarland</td>\n",
       "      <td>Saarlouis</td>\n",
       "      <td>Saarlouis</td>\n",
       "      <td>West</td>\n",
       "      <td>Partial Feed-in</td>\n",
       "      <td>7.6</td>\n",
       "      <td>Structural installations (house roof, building...</td>\n",
       "      <td>30.0</td>\n",
       "    </tr>\n",
       "  </tbody>\n",
       "</table>\n",
       "</div>"
      ],
      "text/plain": [
       "                 State Administrative Region              City  \\\n",
       "0  Nordrhein-Westfalen               Münster           Münster   \n",
       "1    Baden-Württemberg           Ostalbkreis  Schwäbisch Gmünd   \n",
       "2          Brandenburg             Havelland             Nauen   \n",
       "3               Bayern            Regensburg          Pentling   \n",
       "4             Saarland             Saarlouis         Saarlouis   \n",
       "\n",
       "  MainOrientation       FeedInType  AssignedActivePowerInverter  \\\n",
       "0           South     Full Feed-in                          4.0   \n",
       "1           South  Partial Feed-in                          8.3   \n",
       "2           South  Partial Feed-in                          5.0   \n",
       "3      South-West  Partial Feed-in                          6.0   \n",
       "4            West  Partial Feed-in                          7.6   \n",
       "\n",
       "                                            Location  NumberOfModules  \n",
       "0  Structural installations (house roof, building...             22.0  \n",
       "1  Structural installations (house roof, building...             38.0  \n",
       "2  Structural installations (house roof, building...             16.0  \n",
       "3  Structural installations (house roof, building...             24.0  \n",
       "4  Structural installations (house roof, building...             30.0  "
      ]
     },
     "execution_count": 11,
     "metadata": {},
     "output_type": "execute_result"
    }
   ],
   "source": [
    "X.head()"
   ]
  },
  {
   "cell_type": "code",
   "execution_count": 12,
   "id": "285ad3ca",
   "metadata": {},
   "outputs": [],
   "source": [
    "from sklearn.model_selection import train_test_split"
   ]
  },
  {
   "cell_type": "code",
   "execution_count": 13,
   "id": "9028d11e",
   "metadata": {},
   "outputs": [],
   "source": [
    "X_train, X_test, y_train, y_test=train_test_split(X, y, test_size=0.2, random_state=42)"
   ]
  },
  {
   "cell_type": "code",
   "execution_count": 14,
   "id": "3e5707b3",
   "metadata": {},
   "outputs": [
    {
     "name": "stdout",
     "output_type": "stream",
     "text": [
      "(2823751, 8) (705938, 8) (2823751, 2) (705938, 2)\n"
     ]
    }
   ],
   "source": [
    "print(X_train.shape, X_test.shape, y_train.shape, y_test.shape)"
   ]
  },
  {
   "cell_type": "code",
   "execution_count": 15,
   "id": "9fec4014",
   "metadata": {},
   "outputs": [],
   "source": [
    "from sklearn.preprocessing import MinMaxScaler, OneHotEncoder\n",
    "from sklearn.compose import ColumnTransformer\n",
    "from sklearn.pipeline import Pipeline"
   ]
  },
  {
   "cell_type": "code",
   "execution_count": 16,
   "id": "aae12b3f",
   "metadata": {},
   "outputs": [
    {
     "data": {
      "text/html": [
       "<div>\n",
       "<style scoped>\n",
       "    .dataframe tbody tr th:only-of-type {\n",
       "        vertical-align: middle;\n",
       "    }\n",
       "\n",
       "    .dataframe tbody tr th {\n",
       "        vertical-align: top;\n",
       "    }\n",
       "\n",
       "    .dataframe thead th {\n",
       "        text-align: right;\n",
       "    }\n",
       "</style>\n",
       "<table border=\"1\" class=\"dataframe\">\n",
       "  <thead>\n",
       "    <tr style=\"text-align: right;\">\n",
       "      <th></th>\n",
       "      <th>AssignedActivePowerInverter</th>\n",
       "      <th>NumberOfModules</th>\n",
       "    </tr>\n",
       "  </thead>\n",
       "  <tbody>\n",
       "    <tr>\n",
       "      <th>count</th>\n",
       "      <td>2.823751e+06</td>\n",
       "      <td>2.823751e+06</td>\n",
       "    </tr>\n",
       "    <tr>\n",
       "      <th>mean</th>\n",
       "      <td>7.763958e+00</td>\n",
       "      <td>2.738333e+01</td>\n",
       "    </tr>\n",
       "    <tr>\n",
       "      <th>std</th>\n",
       "      <td>4.826545e+00</td>\n",
       "      <td>1.907174e+01</td>\n",
       "    </tr>\n",
       "    <tr>\n",
       "      <th>min</th>\n",
       "      <td>0.000000e+00</td>\n",
       "      <td>1.000000e+00</td>\n",
       "    </tr>\n",
       "    <tr>\n",
       "      <th>25%</th>\n",
       "      <td>4.600000e+00</td>\n",
       "      <td>1.600000e+01</td>\n",
       "    </tr>\n",
       "    <tr>\n",
       "      <th>50%</th>\n",
       "      <td>8.000000e+00</td>\n",
       "      <td>2.400000e+01</td>\n",
       "    </tr>\n",
       "    <tr>\n",
       "      <th>75%</th>\n",
       "      <td>1.000000e+01</td>\n",
       "      <td>3.400000e+01</td>\n",
       "    </tr>\n",
       "    <tr>\n",
       "      <th>max</th>\n",
       "      <td>2.750000e+01</td>\n",
       "      <td>1.050000e+02</td>\n",
       "    </tr>\n",
       "  </tbody>\n",
       "</table>\n",
       "</div>"
      ],
      "text/plain": [
       "       AssignedActivePowerInverter  NumberOfModules\n",
       "count                 2.823751e+06     2.823751e+06\n",
       "mean                  7.763958e+00     2.738333e+01\n",
       "std                   4.826545e+00     1.907174e+01\n",
       "min                   0.000000e+00     1.000000e+00\n",
       "25%                   4.600000e+00     1.600000e+01\n",
       "50%                   8.000000e+00     2.400000e+01\n",
       "75%                   1.000000e+01     3.400000e+01\n",
       "max                   2.750000e+01     1.050000e+02"
      ]
     },
     "execution_count": 16,
     "metadata": {},
     "output_type": "execute_result"
    }
   ],
   "source": [
    "X_train.describe()"
   ]
  },
  {
   "cell_type": "code",
   "execution_count": 17,
   "id": "a5e56f30",
   "metadata": {},
   "outputs": [
    {
     "data": {
      "text/plain": [
       "Index(['State', 'Administrative Region', 'City', 'MainOrientation',\n",
       "       'FeedInType', 'AssignedActivePowerInverter', 'Location',\n",
       "       'NumberOfModules'],\n",
       "      dtype='object')"
      ]
     },
     "execution_count": 17,
     "metadata": {},
     "output_type": "execute_result"
    }
   ],
   "source": [
    "X_train.columns"
   ]
  },
  {
   "cell_type": "code",
   "execution_count": 18,
   "id": "5fb55250",
   "metadata": {},
   "outputs": [],
   "source": [
    "numerical_fatures=[\"AssignedActivePowerInverter\", 'NumberOfModules']\n",
    "categorical_fatures=['State', 'Administrative Region', 'City', 'MainOrientation', 'FeedInType', 'Location',]"
   ]
  },
  {
   "cell_type": "code",
   "execution_count": 19,
   "id": "ccd4a18d",
   "metadata": {},
   "outputs": [],
   "source": [
    "numerical_scaler=MinMaxScaler()\n",
    "categorical_encoder=OneHotEncoder(sparse=True, handle_unknown='ignore')"
   ]
  },
  {
   "cell_type": "code",
   "execution_count": 20,
   "id": "f3f8ce0c",
   "metadata": {},
   "outputs": [],
   "source": [
    "# Create the ColumnTransformer\n",
    "preprocessor = ColumnTransformer(\n",
    "    transformers=[\n",
    "        (\"numerical\", numerical_scaler, numerical_fatures),\n",
    "        (\"categorical\", categorical_encoder, categorical_fatures),\n",
    "    ]\n",
    ")"
   ]
  },
  {
   "cell_type": "code",
   "execution_count": 21,
   "id": "9b311915",
   "metadata": {},
   "outputs": [
    {
     "name": "stderr",
     "output_type": "stream",
     "text": [
      "/home/gokhan/.pyenv/versions/3.10.6/envs/lewagon/lib/python3.10/site-packages/sklearn/preprocessing/_encoders.py:975: FutureWarning: `sparse` was renamed to `sparse_output` in version 1.2 and will be removed in 1.4. `sparse_output` is ignored unless you leave `sparse` to its default value.\n",
      "  warnings.warn(\n"
     ]
    }
   ],
   "source": [
    "# Fit and transform the training data\n",
    "X_train_transformed = preprocessor.fit_transform(X_train)\n",
    "\n",
    "# Apply the same transformation to the test data\n",
    "X_test_transformed = preprocessor.transform(X_test)"
   ]
  },
  {
   "cell_type": "code",
   "execution_count": 22,
   "id": "e8762865",
   "metadata": {},
   "outputs": [
    {
     "name": "stdout",
     "output_type": "stream",
     "text": [
      "(2823751, 10957) (705938, 10957) (2823751, 2) (705938, 2)\n"
     ]
    }
   ],
   "source": [
    "print(X_train_transformed.shape, X_test_transformed.shape, y_train.shape, y_test.shape)"
   ]
  },
  {
   "cell_type": "code",
   "execution_count": 26,
   "id": "728d1a42",
   "metadata": {},
   "outputs": [],
   "source": [
    "import xgboost as xgb\n",
    "from sklearn.metrics import mean_squared_error, r2_score"
   ]
  },
  {
   "cell_type": "code",
   "execution_count": 27,
   "id": "a5840857",
   "metadata": {},
   "outputs": [],
   "source": [
    "# Initialize the model\n",
    "xgb_model = xgb.XGBRegressor(n_estimators=100, random_state=42)"
   ]
  },
  {
   "cell_type": "code",
   "execution_count": 28,
   "id": "afdc1209",
   "metadata": {},
   "outputs": [
    {
     "data": {
      "text/html": [
       "<style>#sk-container-id-1 {color: black;}#sk-container-id-1 pre{padding: 0;}#sk-container-id-1 div.sk-toggleable {background-color: white;}#sk-container-id-1 label.sk-toggleable__label {cursor: pointer;display: block;width: 100%;margin-bottom: 0;padding: 0.3em;box-sizing: border-box;text-align: center;}#sk-container-id-1 label.sk-toggleable__label-arrow:before {content: \"▸\";float: left;margin-right: 0.25em;color: #696969;}#sk-container-id-1 label.sk-toggleable__label-arrow:hover:before {color: black;}#sk-container-id-1 div.sk-estimator:hover label.sk-toggleable__label-arrow:before {color: black;}#sk-container-id-1 div.sk-toggleable__content {max-height: 0;max-width: 0;overflow: hidden;text-align: left;background-color: #f0f8ff;}#sk-container-id-1 div.sk-toggleable__content pre {margin: 0.2em;color: black;border-radius: 0.25em;background-color: #f0f8ff;}#sk-container-id-1 input.sk-toggleable__control:checked~div.sk-toggleable__content {max-height: 200px;max-width: 100%;overflow: auto;}#sk-container-id-1 input.sk-toggleable__control:checked~label.sk-toggleable__label-arrow:before {content: \"▾\";}#sk-container-id-1 div.sk-estimator input.sk-toggleable__control:checked~label.sk-toggleable__label {background-color: #d4ebff;}#sk-container-id-1 div.sk-label input.sk-toggleable__control:checked~label.sk-toggleable__label {background-color: #d4ebff;}#sk-container-id-1 input.sk-hidden--visually {border: 0;clip: rect(1px 1px 1px 1px);clip: rect(1px, 1px, 1px, 1px);height: 1px;margin: -1px;overflow: hidden;padding: 0;position: absolute;width: 1px;}#sk-container-id-1 div.sk-estimator {font-family: monospace;background-color: #f0f8ff;border: 1px dotted black;border-radius: 0.25em;box-sizing: border-box;margin-bottom: 0.5em;}#sk-container-id-1 div.sk-estimator:hover {background-color: #d4ebff;}#sk-container-id-1 div.sk-parallel-item::after {content: \"\";width: 100%;border-bottom: 1px solid gray;flex-grow: 1;}#sk-container-id-1 div.sk-label:hover label.sk-toggleable__label {background-color: #d4ebff;}#sk-container-id-1 div.sk-serial::before {content: \"\";position: absolute;border-left: 1px solid gray;box-sizing: border-box;top: 0;bottom: 0;left: 50%;z-index: 0;}#sk-container-id-1 div.sk-serial {display: flex;flex-direction: column;align-items: center;background-color: white;padding-right: 0.2em;padding-left: 0.2em;position: relative;}#sk-container-id-1 div.sk-item {position: relative;z-index: 1;}#sk-container-id-1 div.sk-parallel {display: flex;align-items: stretch;justify-content: center;background-color: white;position: relative;}#sk-container-id-1 div.sk-item::before, #sk-container-id-1 div.sk-parallel-item::before {content: \"\";position: absolute;border-left: 1px solid gray;box-sizing: border-box;top: 0;bottom: 0;left: 50%;z-index: -1;}#sk-container-id-1 div.sk-parallel-item {display: flex;flex-direction: column;z-index: 1;position: relative;background-color: white;}#sk-container-id-1 div.sk-parallel-item:first-child::after {align-self: flex-end;width: 50%;}#sk-container-id-1 div.sk-parallel-item:last-child::after {align-self: flex-start;width: 50%;}#sk-container-id-1 div.sk-parallel-item:only-child::after {width: 0;}#sk-container-id-1 div.sk-dashed-wrapped {border: 1px dashed gray;margin: 0 0.4em 0.5em 0.4em;box-sizing: border-box;padding-bottom: 0.4em;background-color: white;}#sk-container-id-1 div.sk-label label {font-family: monospace;font-weight: bold;display: inline-block;line-height: 1.2em;}#sk-container-id-1 div.sk-label-container {text-align: center;}#sk-container-id-1 div.sk-container {/* jupyter's `normalize.less` sets `[hidden] { display: none; }` but bootstrap.min.css set `[hidden] { display: none !important; }` so we also need the `!important` here to be able to override the default hidden behavior on the sphinx rendered scikit-learn.org. See: https://github.com/scikit-learn/scikit-learn/issues/21755 */display: inline-block !important;position: relative;}#sk-container-id-1 div.sk-text-repr-fallback {display: none;}</style><div id=\"sk-container-id-1\" class=\"sk-top-container\"><div class=\"sk-text-repr-fallback\"><pre>XGBRegressor(base_score=0.5, booster=&#x27;gbtree&#x27;, callbacks=None,\n",
       "             colsample_bylevel=1, colsample_bynode=1, colsample_bytree=1,\n",
       "             early_stopping_rounds=None, enable_categorical=False,\n",
       "             eval_metric=None, gamma=0, gpu_id=-1, grow_policy=&#x27;depthwise&#x27;,\n",
       "             importance_type=None, interaction_constraints=&#x27;&#x27;,\n",
       "             learning_rate=0.300000012, max_bin=256, max_cat_to_onehot=4,\n",
       "             max_delta_step=0, max_depth=6, max_leaves=0, min_child_weight=1,\n",
       "             missing=nan, monotone_constraints=&#x27;()&#x27;, n_estimators=100, n_jobs=0,\n",
       "             num_parallel_tree=1, predictor=&#x27;auto&#x27;, random_state=42,\n",
       "             reg_alpha=0, reg_lambda=1, ...)</pre><b>In a Jupyter environment, please rerun this cell to show the HTML representation or trust the notebook. <br />On GitHub, the HTML representation is unable to render, please try loading this page with nbviewer.org.</b></div><div class=\"sk-container\" hidden><div class=\"sk-item\"><div class=\"sk-estimator sk-toggleable\"><input class=\"sk-toggleable__control sk-hidden--visually\" id=\"sk-estimator-id-1\" type=\"checkbox\" checked><label for=\"sk-estimator-id-1\" class=\"sk-toggleable__label sk-toggleable__label-arrow\">XGBRegressor</label><div class=\"sk-toggleable__content\"><pre>XGBRegressor(base_score=0.5, booster=&#x27;gbtree&#x27;, callbacks=None,\n",
       "             colsample_bylevel=1, colsample_bynode=1, colsample_bytree=1,\n",
       "             early_stopping_rounds=None, enable_categorical=False,\n",
       "             eval_metric=None, gamma=0, gpu_id=-1, grow_policy=&#x27;depthwise&#x27;,\n",
       "             importance_type=None, interaction_constraints=&#x27;&#x27;,\n",
       "             learning_rate=0.300000012, max_bin=256, max_cat_to_onehot=4,\n",
       "             max_delta_step=0, max_depth=6, max_leaves=0, min_child_weight=1,\n",
       "             missing=nan, monotone_constraints=&#x27;()&#x27;, n_estimators=100, n_jobs=0,\n",
       "             num_parallel_tree=1, predictor=&#x27;auto&#x27;, random_state=42,\n",
       "             reg_alpha=0, reg_lambda=1, ...)</pre></div></div></div></div></div>"
      ],
      "text/plain": [
       "XGBRegressor(base_score=0.5, booster='gbtree', callbacks=None,\n",
       "             colsample_bylevel=1, colsample_bynode=1, colsample_bytree=1,\n",
       "             early_stopping_rounds=None, enable_categorical=False,\n",
       "             eval_metric=None, gamma=0, gpu_id=-1, grow_policy='depthwise',\n",
       "             importance_type=None, interaction_constraints='',\n",
       "             learning_rate=0.300000012, max_bin=256, max_cat_to_onehot=4,\n",
       "             max_delta_step=0, max_depth=6, max_leaves=0, min_child_weight=1,\n",
       "             missing=nan, monotone_constraints='()', n_estimators=100, n_jobs=0,\n",
       "             num_parallel_tree=1, predictor='auto', random_state=42,\n",
       "             reg_alpha=0, reg_lambda=1, ...)"
      ]
     },
     "execution_count": 28,
     "metadata": {},
     "output_type": "execute_result"
    }
   ],
   "source": [
    "# Train the model\n",
    "xgb_model.fit(X_train_transformed, y_train)"
   ]
  },
  {
   "cell_type": "code",
   "execution_count": 31,
   "id": "7860f9c9",
   "metadata": {},
   "outputs": [],
   "source": [
    "# Predict on the test set\n",
    "y_pred_xgb = xgb_model.predict(X_test_transformed)"
   ]
  },
  {
   "cell_type": "code",
   "execution_count": 32,
   "id": "cc8832ca",
   "metadata": {},
   "outputs": [
    {
     "name": "stdout",
     "output_type": "stream",
     "text": [
      "XGBoost - Mean Squared Error: 1.1424822592161583\n",
      "XGBoost - R2 Score: 0.9551025752724178\n"
     ]
    }
   ],
   "source": [
    "# Evaluate the model\n",
    "mse_xgb = mean_squared_error(y_test, y_pred_xgb)\n",
    "r2_xgb = r2_score(y_test, y_pred_xgb)\n",
    "\n",
    "print(\"XGBoost - Mean Squared Error:\", mse_xgb)\n",
    "print(\"XGBoost - R2 Score:\", r2_xgb)\n"
   ]
  },
  {
   "cell_type": "code",
   "execution_count": 33,
   "id": "9f0aab8f",
   "metadata": {},
   "outputs": [],
   "source": [
    "from sklearn.model_selection import RandomizedSearchCV"
   ]
  },
  {
   "cell_type": "code",
   "execution_count": 34,
   "id": "74f5cfbc",
   "metadata": {},
   "outputs": [],
   "source": [
    "param_dist = {\n",
    "    'learning_rate': [0.01, 0.05, 0.1, 0.2],\n",
    "    'max_depth': [3, 6, 10],\n",
    "    'subsample': [0.7, 0.8, 0.9, 1],\n",
    "    'colsample_bytree': [0.7, 0.8, 0.9],\n",
    "    'n_estimators': [50, 100, 200],\n",
    "    'gamma': [0, 1, 5],\n",
    "    'min_child_weight': [1, 2, 3]\n",
    "}"
   ]
  },
  {
   "cell_type": "code",
   "execution_count": 35,
   "id": "a3334f4e",
   "metadata": {},
   "outputs": [
    {
     "name": "stdout",
     "output_type": "stream",
     "text": [
      "Fitting 5 folds for each of 10 candidates, totalling 50 fits\n",
      "[CV] END colsample_bytree=0.9, gamma=1, learning_rate=0.05, max_depth=6, min_child_weight=1, n_estimators=100, subsample=0.9; total time= 4.2min\n",
      "[CV] END colsample_bytree=0.9, gamma=1, learning_rate=0.05, max_depth=6, min_child_weight=1, n_estimators=100, subsample=0.9; total time= 4.9min\n",
      "[CV] END colsample_bytree=0.9, gamma=1, learning_rate=0.05, max_depth=6, min_child_weight=1, n_estimators=100, subsample=0.9; total time= 4.8min\n",
      "[CV] END colsample_bytree=0.9, gamma=1, learning_rate=0.05, max_depth=6, min_child_weight=1, n_estimators=100, subsample=0.9; total time= 4.9min\n",
      "[CV] END colsample_bytree=0.9, gamma=1, learning_rate=0.05, max_depth=6, min_child_weight=1, n_estimators=100, subsample=0.9; total time= 4.8min\n",
      "[CV] END colsample_bytree=0.9, gamma=5, learning_rate=0.01, max_depth=6, min_child_weight=2, n_estimators=50, subsample=1; total time= 2.0min\n",
      "[CV] END colsample_bytree=0.9, gamma=5, learning_rate=0.01, max_depth=6, min_child_weight=2, n_estimators=50, subsample=1; total time= 2.3min\n",
      "[CV] END colsample_bytree=0.9, gamma=5, learning_rate=0.01, max_depth=6, min_child_weight=2, n_estimators=50, subsample=1; total time= 2.3min\n",
      "[CV] END colsample_bytree=0.9, gamma=5, learning_rate=0.01, max_depth=6, min_child_weight=2, n_estimators=50, subsample=1; total time= 2.3min\n",
      "[CV] END colsample_bytree=0.9, gamma=5, learning_rate=0.01, max_depth=6, min_child_weight=2, n_estimators=50, subsample=1; total time= 2.3min\n",
      "[CV] END colsample_bytree=0.7, gamma=1, learning_rate=0.2, max_depth=10, min_child_weight=3, n_estimators=200, subsample=0.7; total time=11.2min\n",
      "[CV] END colsample_bytree=0.7, gamma=1, learning_rate=0.2, max_depth=10, min_child_weight=3, n_estimators=200, subsample=0.7; total time=13.0min\n",
      "[CV] END colsample_bytree=0.7, gamma=1, learning_rate=0.2, max_depth=10, min_child_weight=3, n_estimators=200, subsample=0.7; total time=12.9min\n",
      "[CV] END colsample_bytree=0.7, gamma=1, learning_rate=0.2, max_depth=10, min_child_weight=3, n_estimators=200, subsample=0.7; total time=13.2min\n",
      "[CV] END colsample_bytree=0.7, gamma=1, learning_rate=0.2, max_depth=10, min_child_weight=3, n_estimators=200, subsample=0.7; total time=13.3min\n",
      "[CV] END colsample_bytree=0.7, gamma=5, learning_rate=0.2, max_depth=10, min_child_weight=3, n_estimators=200, subsample=0.9; total time=10.9min\n",
      "[CV] END colsample_bytree=0.7, gamma=5, learning_rate=0.2, max_depth=10, min_child_weight=3, n_estimators=200, subsample=0.9; total time=12.5min\n",
      "[CV] END colsample_bytree=0.7, gamma=5, learning_rate=0.2, max_depth=10, min_child_weight=3, n_estimators=200, subsample=0.9; total time=12.4min\n",
      "[CV] END colsample_bytree=0.7, gamma=5, learning_rate=0.2, max_depth=10, min_child_weight=3, n_estimators=200, subsample=0.9; total time=12.5min\n",
      "[CV] END colsample_bytree=0.7, gamma=5, learning_rate=0.2, max_depth=10, min_child_weight=3, n_estimators=200, subsample=0.9; total time=12.5min\n",
      "[CV] END colsample_bytree=0.7, gamma=5, learning_rate=0.1, max_depth=6, min_child_weight=2, n_estimators=50, subsample=0.9; total time= 1.6min\n",
      "[CV] END colsample_bytree=0.7, gamma=5, learning_rate=0.1, max_depth=6, min_child_weight=2, n_estimators=50, subsample=0.9; total time= 2.0min\n",
      "[CV] END colsample_bytree=0.7, gamma=5, learning_rate=0.1, max_depth=6, min_child_weight=2, n_estimators=50, subsample=0.9; total time= 1.9min\n",
      "[CV] END colsample_bytree=0.7, gamma=5, learning_rate=0.1, max_depth=6, min_child_weight=2, n_estimators=50, subsample=0.9; total time= 1.9min\n",
      "[CV] END colsample_bytree=0.7, gamma=5, learning_rate=0.1, max_depth=6, min_child_weight=2, n_estimators=50, subsample=0.9; total time= 2.0min\n",
      "[CV] END colsample_bytree=0.7, gamma=5, learning_rate=0.1, max_depth=3, min_child_weight=2, n_estimators=50, subsample=1; total time=  44.9s\n",
      "[CV] END colsample_bytree=0.7, gamma=5, learning_rate=0.1, max_depth=3, min_child_weight=2, n_estimators=50, subsample=1; total time=  52.0s\n",
      "[CV] END colsample_bytree=0.7, gamma=5, learning_rate=0.1, max_depth=3, min_child_weight=2, n_estimators=50, subsample=1; total time=  51.8s\n",
      "[CV] END colsample_bytree=0.7, gamma=5, learning_rate=0.1, max_depth=3, min_child_weight=2, n_estimators=50, subsample=1; total time=  52.0s\n",
      "[CV] END colsample_bytree=0.7, gamma=5, learning_rate=0.1, max_depth=3, min_child_weight=2, n_estimators=50, subsample=1; total time=  51.8s\n",
      "[CV] END colsample_bytree=0.9, gamma=5, learning_rate=0.1, max_depth=10, min_child_weight=3, n_estimators=100, subsample=0.7; total time= 6.8min\n",
      "[CV] END colsample_bytree=0.9, gamma=5, learning_rate=0.1, max_depth=10, min_child_weight=3, n_estimators=100, subsample=0.7; total time= 8.0min\n",
      "[CV] END colsample_bytree=0.9, gamma=5, learning_rate=0.1, max_depth=10, min_child_weight=3, n_estimators=100, subsample=0.7; total time= 8.0min\n",
      "[CV] END colsample_bytree=0.9, gamma=5, learning_rate=0.1, max_depth=10, min_child_weight=3, n_estimators=100, subsample=0.7; total time= 8.0min\n",
      "[CV] END colsample_bytree=0.9, gamma=5, learning_rate=0.1, max_depth=10, min_child_weight=3, n_estimators=100, subsample=0.7; total time= 8.0min\n",
      "[CV] END colsample_bytree=0.9, gamma=1, learning_rate=0.01, max_depth=6, min_child_weight=3, n_estimators=200, subsample=0.7; total time= 8.3min\n",
      "[CV] END colsample_bytree=0.9, gamma=1, learning_rate=0.01, max_depth=6, min_child_weight=3, n_estimators=200, subsample=0.7; total time= 9.8min\n",
      "[CV] END colsample_bytree=0.9, gamma=1, learning_rate=0.01, max_depth=6, min_child_weight=3, n_estimators=200, subsample=0.7; total time= 9.7min\n",
      "[CV] END colsample_bytree=0.9, gamma=1, learning_rate=0.01, max_depth=6, min_child_weight=3, n_estimators=200, subsample=0.7; total time= 9.8min\n",
      "[CV] END colsample_bytree=0.9, gamma=1, learning_rate=0.01, max_depth=6, min_child_weight=3, n_estimators=200, subsample=0.7; total time= 9.7min\n",
      "[CV] END colsample_bytree=0.8, gamma=0, learning_rate=0.2, max_depth=3, min_child_weight=2, n_estimators=100, subsample=0.9; total time= 1.9min\n",
      "[CV] END colsample_bytree=0.8, gamma=0, learning_rate=0.2, max_depth=3, min_child_weight=2, n_estimators=100, subsample=0.9; total time= 2.3min\n",
      "[CV] END colsample_bytree=0.8, gamma=0, learning_rate=0.2, max_depth=3, min_child_weight=2, n_estimators=100, subsample=0.9; total time= 2.3min\n",
      "[CV] END colsample_bytree=0.8, gamma=0, learning_rate=0.2, max_depth=3, min_child_weight=2, n_estimators=100, subsample=0.9; total time= 2.2min\n",
      "[CV] END colsample_bytree=0.8, gamma=0, learning_rate=0.2, max_depth=3, min_child_weight=2, n_estimators=100, subsample=0.9; total time= 2.2min\n",
      "[CV] END colsample_bytree=0.8, gamma=5, learning_rate=0.01, max_depth=3, min_child_weight=1, n_estimators=200, subsample=0.8; total time= 4.0min\n",
      "[CV] END colsample_bytree=0.8, gamma=5, learning_rate=0.01, max_depth=3, min_child_weight=1, n_estimators=200, subsample=0.8; total time= 4.6min\n",
      "[CV] END colsample_bytree=0.8, gamma=5, learning_rate=0.01, max_depth=3, min_child_weight=1, n_estimators=200, subsample=0.8; total time= 4.6min\n",
      "[CV] END colsample_bytree=0.8, gamma=5, learning_rate=0.01, max_depth=3, min_child_weight=1, n_estimators=200, subsample=0.8; total time= 4.6min\n",
      "[CV] END colsample_bytree=0.8, gamma=5, learning_rate=0.01, max_depth=3, min_child_weight=1, n_estimators=200, subsample=0.8; total time= 4.6min\n",
      "{'subsample': 0.9, 'n_estimators': 200, 'min_child_weight': 3, 'max_depth': 10, 'learning_rate': 0.2, 'gamma': 5, 'colsample_bytree': 0.7}\n"
     ]
    }
   ],
   "source": [
    "xgb_random_search = RandomizedSearchCV(xgb_model, param_distributions=param_dist, n_iter=10, cv=5, verbose=2, random_state=42)\n",
    "xgb_random_search.fit(X_train_transformed, y_train)\n",
    "print(xgb_random_search.best_params_)"
   ]
  },
  {
   "cell_type": "code",
   "execution_count": 36,
   "id": "786c10ad",
   "metadata": {},
   "outputs": [],
   "source": [
    "best_params = xgb_random_search.best_params_"
   ]
  },
  {
   "cell_type": "code",
   "execution_count": 37,
   "id": "29bf1ec4",
   "metadata": {},
   "outputs": [],
   "source": [
    "best_xgb_model = xgb.XGBRegressor(**best_params, random_state=42)"
   ]
  },
  {
   "cell_type": "code",
   "execution_count": 38,
   "id": "fecf1065",
   "metadata": {},
   "outputs": [
    {
     "data": {
      "text/html": [
       "<style>#sk-container-id-2 {color: black;}#sk-container-id-2 pre{padding: 0;}#sk-container-id-2 div.sk-toggleable {background-color: white;}#sk-container-id-2 label.sk-toggleable__label {cursor: pointer;display: block;width: 100%;margin-bottom: 0;padding: 0.3em;box-sizing: border-box;text-align: center;}#sk-container-id-2 label.sk-toggleable__label-arrow:before {content: \"▸\";float: left;margin-right: 0.25em;color: #696969;}#sk-container-id-2 label.sk-toggleable__label-arrow:hover:before {color: black;}#sk-container-id-2 div.sk-estimator:hover label.sk-toggleable__label-arrow:before {color: black;}#sk-container-id-2 div.sk-toggleable__content {max-height: 0;max-width: 0;overflow: hidden;text-align: left;background-color: #f0f8ff;}#sk-container-id-2 div.sk-toggleable__content pre {margin: 0.2em;color: black;border-radius: 0.25em;background-color: #f0f8ff;}#sk-container-id-2 input.sk-toggleable__control:checked~div.sk-toggleable__content {max-height: 200px;max-width: 100%;overflow: auto;}#sk-container-id-2 input.sk-toggleable__control:checked~label.sk-toggleable__label-arrow:before {content: \"▾\";}#sk-container-id-2 div.sk-estimator input.sk-toggleable__control:checked~label.sk-toggleable__label {background-color: #d4ebff;}#sk-container-id-2 div.sk-label input.sk-toggleable__control:checked~label.sk-toggleable__label {background-color: #d4ebff;}#sk-container-id-2 input.sk-hidden--visually {border: 0;clip: rect(1px 1px 1px 1px);clip: rect(1px, 1px, 1px, 1px);height: 1px;margin: -1px;overflow: hidden;padding: 0;position: absolute;width: 1px;}#sk-container-id-2 div.sk-estimator {font-family: monospace;background-color: #f0f8ff;border: 1px dotted black;border-radius: 0.25em;box-sizing: border-box;margin-bottom: 0.5em;}#sk-container-id-2 div.sk-estimator:hover {background-color: #d4ebff;}#sk-container-id-2 div.sk-parallel-item::after {content: \"\";width: 100%;border-bottom: 1px solid gray;flex-grow: 1;}#sk-container-id-2 div.sk-label:hover label.sk-toggleable__label {background-color: #d4ebff;}#sk-container-id-2 div.sk-serial::before {content: \"\";position: absolute;border-left: 1px solid gray;box-sizing: border-box;top: 0;bottom: 0;left: 50%;z-index: 0;}#sk-container-id-2 div.sk-serial {display: flex;flex-direction: column;align-items: center;background-color: white;padding-right: 0.2em;padding-left: 0.2em;position: relative;}#sk-container-id-2 div.sk-item {position: relative;z-index: 1;}#sk-container-id-2 div.sk-parallel {display: flex;align-items: stretch;justify-content: center;background-color: white;position: relative;}#sk-container-id-2 div.sk-item::before, #sk-container-id-2 div.sk-parallel-item::before {content: \"\";position: absolute;border-left: 1px solid gray;box-sizing: border-box;top: 0;bottom: 0;left: 50%;z-index: -1;}#sk-container-id-2 div.sk-parallel-item {display: flex;flex-direction: column;z-index: 1;position: relative;background-color: white;}#sk-container-id-2 div.sk-parallel-item:first-child::after {align-self: flex-end;width: 50%;}#sk-container-id-2 div.sk-parallel-item:last-child::after {align-self: flex-start;width: 50%;}#sk-container-id-2 div.sk-parallel-item:only-child::after {width: 0;}#sk-container-id-2 div.sk-dashed-wrapped {border: 1px dashed gray;margin: 0 0.4em 0.5em 0.4em;box-sizing: border-box;padding-bottom: 0.4em;background-color: white;}#sk-container-id-2 div.sk-label label {font-family: monospace;font-weight: bold;display: inline-block;line-height: 1.2em;}#sk-container-id-2 div.sk-label-container {text-align: center;}#sk-container-id-2 div.sk-container {/* jupyter's `normalize.less` sets `[hidden] { display: none; }` but bootstrap.min.css set `[hidden] { display: none !important; }` so we also need the `!important` here to be able to override the default hidden behavior on the sphinx rendered scikit-learn.org. See: https://github.com/scikit-learn/scikit-learn/issues/21755 */display: inline-block !important;position: relative;}#sk-container-id-2 div.sk-text-repr-fallback {display: none;}</style><div id=\"sk-container-id-2\" class=\"sk-top-container\"><div class=\"sk-text-repr-fallback\"><pre>XGBRegressor(base_score=0.5, booster=&#x27;gbtree&#x27;, callbacks=None,\n",
       "             colsample_bylevel=1, colsample_bynode=1, colsample_bytree=0.7,\n",
       "             early_stopping_rounds=None, enable_categorical=False,\n",
       "             eval_metric=None, gamma=5, gpu_id=-1, grow_policy=&#x27;depthwise&#x27;,\n",
       "             importance_type=None, interaction_constraints=&#x27;&#x27;,\n",
       "             learning_rate=0.2, max_bin=256, max_cat_to_onehot=4,\n",
       "             max_delta_step=0, max_depth=10, max_leaves=0, min_child_weight=3,\n",
       "             missing=nan, monotone_constraints=&#x27;()&#x27;, n_estimators=200, n_jobs=0,\n",
       "             num_parallel_tree=1, predictor=&#x27;auto&#x27;, random_state=42,\n",
       "             reg_alpha=0, reg_lambda=1, ...)</pre><b>In a Jupyter environment, please rerun this cell to show the HTML representation or trust the notebook. <br />On GitHub, the HTML representation is unable to render, please try loading this page with nbviewer.org.</b></div><div class=\"sk-container\" hidden><div class=\"sk-item\"><div class=\"sk-estimator sk-toggleable\"><input class=\"sk-toggleable__control sk-hidden--visually\" id=\"sk-estimator-id-2\" type=\"checkbox\" checked><label for=\"sk-estimator-id-2\" class=\"sk-toggleable__label sk-toggleable__label-arrow\">XGBRegressor</label><div class=\"sk-toggleable__content\"><pre>XGBRegressor(base_score=0.5, booster=&#x27;gbtree&#x27;, callbacks=None,\n",
       "             colsample_bylevel=1, colsample_bynode=1, colsample_bytree=0.7,\n",
       "             early_stopping_rounds=None, enable_categorical=False,\n",
       "             eval_metric=None, gamma=5, gpu_id=-1, grow_policy=&#x27;depthwise&#x27;,\n",
       "             importance_type=None, interaction_constraints=&#x27;&#x27;,\n",
       "             learning_rate=0.2, max_bin=256, max_cat_to_onehot=4,\n",
       "             max_delta_step=0, max_depth=10, max_leaves=0, min_child_weight=3,\n",
       "             missing=nan, monotone_constraints=&#x27;()&#x27;, n_estimators=200, n_jobs=0,\n",
       "             num_parallel_tree=1, predictor=&#x27;auto&#x27;, random_state=42,\n",
       "             reg_alpha=0, reg_lambda=1, ...)</pre></div></div></div></div></div>"
      ],
      "text/plain": [
       "XGBRegressor(base_score=0.5, booster='gbtree', callbacks=None,\n",
       "             colsample_bylevel=1, colsample_bynode=1, colsample_bytree=0.7,\n",
       "             early_stopping_rounds=None, enable_categorical=False,\n",
       "             eval_metric=None, gamma=5, gpu_id=-1, grow_policy='depthwise',\n",
       "             importance_type=None, interaction_constraints='',\n",
       "             learning_rate=0.2, max_bin=256, max_cat_to_onehot=4,\n",
       "             max_delta_step=0, max_depth=10, max_leaves=0, min_child_weight=3,\n",
       "             missing=nan, monotone_constraints='()', n_estimators=200, n_jobs=0,\n",
       "             num_parallel_tree=1, predictor='auto', random_state=42,\n",
       "             reg_alpha=0, reg_lambda=1, ...)"
      ]
     },
     "execution_count": 38,
     "metadata": {},
     "output_type": "execute_result"
    }
   ],
   "source": [
    "best_xgb_model.fit(X_train_transformed, y_train)"
   ]
  },
  {
   "cell_type": "code",
   "execution_count": 39,
   "id": "2abb7f08",
   "metadata": {},
   "outputs": [],
   "source": [
    "# Predict on the test set\n",
    "y_pred_xgb_best = best_xgb_model.predict(X_test_transformed)"
   ]
  },
  {
   "cell_type": "code",
   "execution_count": 40,
   "id": "057ada2b",
   "metadata": {},
   "outputs": [
    {
     "name": "stdout",
     "output_type": "stream",
     "text": [
      "XGBoost - Mean Squared Error: 1.0978795102484857\n",
      "XGBoost - R2 Score: 0.9568432445552162\n"
     ]
    }
   ],
   "source": [
    "# Evaluate the model\n",
    "mse_xgb_best = mean_squared_error(y_test, y_pred_xgb_best)\n",
    "r2_xgb_best = r2_score(y_test, y_pred_xgb_best)\n",
    "\n",
    "print(\"XGBoost - Mean Squared Error:\", mse_xgb_best)\n",
    "print(\"XGBoost - R2 Score:\", r2_xgb_best)\n"
   ]
  },
  {
   "cell_type": "code",
   "execution_count": 41,
   "id": "c42e50f7",
   "metadata": {},
   "outputs": [],
   "source": [
    "import joblib"
   ]
  },
  {
   "cell_type": "code",
   "execution_count": 42,
   "id": "4db201a2",
   "metadata": {},
   "outputs": [],
   "source": [
    "full_pipeline = Pipeline(steps=[\n",
    "    ('preprocessor', preprocessor),\n",
    "    ('model', best_xgb_model)\n",
    "])"
   ]
  },
  {
   "cell_type": "code",
   "execution_count": 43,
   "id": "9094c48c",
   "metadata": {},
   "outputs": [
    {
     "name": "stdout",
     "output_type": "stream",
     "text": [
      "Full pipeline saved as xgb_full_pipeline.pkl\n"
     ]
    }
   ],
   "source": [
    "# Save the pipeline to a file\n",
    "joblib.dump(full_pipeline, \"xgb_full_pipeline.pkl\")\n",
    "\n",
    "print(\"Full pipeline saved as xgb_full_pipeline.pkl\")"
   ]
  },
  {
   "cell_type": "code",
   "execution_count": 44,
   "id": "c20d8cfd",
   "metadata": {},
   "outputs": [],
   "source": [
    "# Load the pipeline\n",
    "loaded_pipeline = joblib.load(\"xgb_full_pipeline.pkl\")"
   ]
  },
  {
   "cell_type": "code",
   "execution_count": 45,
   "id": "c1e8f57c",
   "metadata": {},
   "outputs": [
    {
     "name": "stdout",
     "output_type": "stream",
     "text": [
      "[[6.6572146 3.687137 ]\n",
      " [5.796834  5.731938 ]\n",
      " [8.248131  8.219451 ]\n",
      " ...\n",
      " [7.6353245 7.4523635]\n",
      " [5.786848  4.9900026]\n",
      " [4.312643  3.917955 ]]\n"
     ]
    }
   ],
   "source": [
    "# Use the loaded pipeline to make predictions\n",
    "y_pred_loaded = loaded_pipeline.predict(X_test)\n",
    "\n",
    "print(y_pred_loaded)"
   ]
  },
  {
   "cell_type": "code",
   "execution_count": null,
   "id": "c02450cd",
   "metadata": {},
   "outputs": [],
   "source": []
  }
 ],
 "metadata": {
  "kernelspec": {
   "display_name": "lewagon",
   "language": "python",
   "name": "python3"
  },
  "language_info": {
   "codemirror_mode": {
    "name": "ipython",
    "version": 3
   },
   "file_extension": ".py",
   "mimetype": "text/x-python",
   "name": "python",
   "nbconvert_exporter": "python",
   "pygments_lexer": "ipython3",
   "version": "3.10.6"
  }
 },
 "nbformat": 4,
 "nbformat_minor": 5
}
